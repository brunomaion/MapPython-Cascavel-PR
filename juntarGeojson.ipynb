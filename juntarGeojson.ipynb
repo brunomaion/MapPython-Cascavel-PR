{
 "cells": [
  {
   "cell_type": "code",
   "execution_count": 44,
   "metadata": {},
   "outputs": [],
   "source": [
    "import geopandas as gpd\n",
    "import pandas as pd\n",
    "from pathlib import Path\n",
    "\n",
    "# Pasta onde os arquivos GeoJSON estão localizados\n",
    "pasta_bairros = 'Pq. Verde'\n",
    "nome = pasta_bairros + '.geojson'\n",
    "\n",
    "# Lista de nomes de arquivos GeoJSON na pasta\n",
    "arquivos_geojson = [arquivo for arquivo in Path(pasta_bairros).iterdir() if arquivo.suffix == '.geojson']\n",
    "\n",
    "# Criar uma lista vazia para armazenar os GeoDataFrames\n",
    "gdfs = []\n",
    "\n",
    "# Iterar sobre os arquivos GeoJSON\n",
    "for arquivo in arquivos_geojson:\n",
    "    gdf = gpd.read_file(arquivo)\n",
    "    gdfs.append(gdf)\n",
    "\n",
    "# Juntar os GeoDataFrames\n",
    "gdf_final = gpd.GeoDataFrame(pd.concat(gdfs, ignore_index=True), crs=gdf.crs)\n",
    "\n",
    "# Salvar o GeoDataFrame final como GeoJSON\n",
    "gdf_final.to_file(nome, driver='GeoJSON')\n"
   ]
  }
 ],
 "metadata": {
  "kernelspec": {
   "display_name": "Python 3",
   "language": "python",
   "name": "python3"
  },
  "language_info": {
   "codemirror_mode": {
    "name": "ipython",
    "version": 3
   },
   "file_extension": ".py",
   "mimetype": "text/x-python",
   "name": "python",
   "nbconvert_exporter": "python",
   "pygments_lexer": "ipython3",
   "version": "3.10.12"
  },
  "orig_nbformat": 4
 },
 "nbformat": 4,
 "nbformat_minor": 2
}
