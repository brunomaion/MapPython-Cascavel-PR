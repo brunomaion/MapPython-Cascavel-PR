{
 "cells": [
  {
   "cell_type": "code",
   "execution_count": 26,
   "metadata": {},
   "outputs": [],
   "source": [
    "import folium\n",
    "import os\n",
    "from folium.plugins import CheckboxLayerControl\n",
    "\n",
    "# Lista de cores predefinidas\n",
    "colors = [\n",
    "    \"#1f77b4\", \"#ff7f0e\", \"#2ca02c\", \"#d62728\", \"#9467bd\", \"#8c564b\",\n",
    "    \"#e377c2\", \"#7f7f7f\", \"#bcbd22\", \"#17becf\", \"#aec7e8\", \"#ffbb78\",\n",
    "    \"#a55194\", \"#637939\", \"#a55194\", \"#ff7f0e\", \"#2ca02c\", \"#d62728\",\n",
    "    \"#98df8a\", \"#ff9896\", \"#c5b0d5\", \"#c49c94\", \"#f7b6d2\", \"#c7c7c7\",\n",
    "    \"#dbdb8d\", \"#9edae5\", \"#ad494a\", \"#8c6d31\", \"#843c39\", \"#b5cf6b\",\n",
    "    \"#d6616b\", \"#e7ba52\", \"#9c9ede\", \"#cedb9c\", \"#e7969c\", \"#7b4173\",\n",
    "    \"#17becf\", \"#aec7e8\", \"#ffbb78\", \"#98df8a\", \"#ff9896\"\n",
    "]\n",
    "\n",
    "\n",
    "\n",
    "cascavel_coords = (-24.9574, -53.4595)\n",
    "m = folium.Map(location=cascavel_coords, zoom_start=12)\n",
    "\n",
    "# Pasta contendo os arquivos GeoJSON\n",
    "geojson_folder = \"geoJsonBairros\"\n",
    "\n",
    "# Crie um grupo de camadas para as camadas GeoJSON\n",
    "geojson_group = folium.FeatureGroup(name='Camadas GeoJSON')\n",
    "\n",
    "# Iterar pelos arquivos GeoJSON na pasta\n",
    "for filename in os.listdir(geojson_folder):\n",
    "    if filename.endswith(\".geojson\"):\n",
    "        filepath = os.path.join(geojson_folder, filename)\n",
    "        if colors:\n",
    "            color = colors.pop(0)\n",
    "            folium.GeoJson(filepath, name=filename, style_function=lambda x, color=color: {\n",
    "                \"fillColor\": color,\n",
    "                \"fillOpacity\": 0.7,\n",
    "                \"color\": \"none\"\n",
    "            }).add_to(geojson_group)\n",
    "\n",
    "# Adicionar o grupo de camadas GeoJSON ao mapa\n",
    "geojson_group.add_to(m)\n",
    "\n",
    "# Adicionar controle de camadas ao mapa (incluindo um checkbox para o grupo de camadas GeoJSON)\n",
    "layer_control = folium.LayerControl(collapsed=False)\n",
    "layer_control.add_to(m)\n",
    "\n",
    "# Adicionar o controle de camadas checkbox\n",
    "checkbox_control = CheckboxLayerControl()\n",
    "m.add_child(checkbox_control)\n",
    "\n",
    "# Salvar o mapa em um arquivo HTML\n",
    "m.save('mapa_com_checkbox.html')"
   ]
  }
 ],
 "metadata": {
  "kernelspec": {
   "display_name": "Python 3",
   "language": "python",
   "name": "python3"
  },
  "language_info": {
   "codemirror_mode": {
    "name": "ipython",
    "version": 3
   },
   "file_extension": ".py",
   "mimetype": "text/x-python",
   "name": "python",
   "nbconvert_exporter": "python",
   "pygments_lexer": "ipython3",
   "version": "3.10.12"
  },
  "orig_nbformat": 4
 },
 "nbformat": 4,
 "nbformat_minor": 2
}
