{
 "cells": [
  {
   "cell_type": "code",
   "execution_count": 3,
   "metadata": {},
   "outputs": [
    {
     "ename": "NameError",
     "evalue": "name 'estado' is not defined",
     "output_type": "error",
     "traceback": [
      "\u001b[0;31m---------------------------------------------------------------------------\u001b[0m",
      "\u001b[0;31mNameError\u001b[0m                                 Traceback (most recent call last)",
      "\u001b[1;32m/home/maion/Desktop/PIBIC/MapPython-Cascavel-PR/mainBairros.ipynb Cell 1\u001b[0m in \u001b[0;36m<cell line: 13>\u001b[0;34m()\u001b[0m\n\u001b[1;32m     <a href='vscode-notebook-cell:/home/maion/Desktop/PIBIC/MapPython-Cascavel-PR/mainBairros.ipynb#W0sZmlsZQ%3D%3D?line=9'>10</a>\u001b[0m cidade \u001b[39m=\u001b[39m \u001b[39m'\u001b[39m\u001b[39mcascavel.json\u001b[39m\u001b[39m'\u001b[39m\n\u001b[1;32m     <a href='vscode-notebook-cell:/home/maion/Desktop/PIBIC/MapPython-Cascavel-PR/mainBairros.ipynb#W0sZmlsZQ%3D%3D?line=11'>12</a>\u001b[0m \u001b[39m#Colocar caminho do local do arquivo json\u001b[39;00m\n\u001b[0;32m---> <a href='vscode-notebook-cell:/home/maion/Desktop/PIBIC/MapPython-Cascavel-PR/mainBairros.ipynb#W0sZmlsZQ%3D%3D?line=12'>13</a>\u001b[0m geo_json_data \u001b[39m=\u001b[39m json\u001b[39m.\u001b[39mload(\u001b[39mopen\u001b[39m(estado)) \n\u001b[1;32m     <a href='vscode-notebook-cell:/home/maion/Desktop/PIBIC/MapPython-Cascavel-PR/mainBairros.ipynb#W0sZmlsZQ%3D%3D?line=13'>14</a>\u001b[0m \u001b[39m#ler arquivo \u001b[39;00m\n\u001b[1;32m     <a href='vscode-notebook-cell:/home/maion/Desktop/PIBIC/MapPython-Cascavel-PR/mainBairros.ipynb#W0sZmlsZQ%3D%3D?line=14'>15</a>\u001b[0m style \u001b[39m=\u001b[39m  {\u001b[39m'\u001b[39m\u001b[39mfillColor\u001b[39m\u001b[39m'\u001b[39m: \u001b[39m'\u001b[39m\u001b[39mblue\u001b[39m\u001b[39m'\u001b[39m, \u001b[39m#cor de preenchimento\u001b[39;00m\n\u001b[1;32m     <a href='vscode-notebook-cell:/home/maion/Desktop/PIBIC/MapPython-Cascavel-PR/mainBairros.ipynb#W0sZmlsZQ%3D%3D?line=15'>16</a>\u001b[0m               \u001b[39m'\u001b[39m\u001b[39mcolor\u001b[39m\u001b[39m'\u001b[39m: \u001b[39m'\u001b[39m\u001b[39mred\u001b[39m\u001b[39m'\u001b[39m, \u001b[39m#cor da linha de contorno\u001b[39;00m\n\u001b[1;32m     <a href='vscode-notebook-cell:/home/maion/Desktop/PIBIC/MapPython-Cascavel-PR/mainBairros.ipynb#W0sZmlsZQ%3D%3D?line=16'>17</a>\u001b[0m              \u001b[39m'\u001b[39m\u001b[39mweight\u001b[39m\u001b[39m'\u001b[39m: \u001b[39m0.0\u001b[39m,  \u001b[39m#espessura da linha\u001b[39;00m\n\u001b[1;32m     <a href='vscode-notebook-cell:/home/maion/Desktop/PIBIC/MapPython-Cascavel-PR/mainBairros.ipynb#W0sZmlsZQ%3D%3D?line=17'>18</a>\u001b[0m             } \n",
      "\u001b[0;31mNameError\u001b[0m: name 'estado' is not defined"
     ]
    }
   ],
   "source": [
    "#importando as bibliotecas\n",
    "import folium\n",
    "import json\n",
    "\n",
    "#Criando mapa\n",
    "centro_mapa = [-24.9645333,-53.5514641]  \n",
    "mapa = folium.Map(location = centro_mapa,\n",
    "zoom_start=12)\n",
    "\n",
    "cidade = 'cascavel.json'\n",
    "\n",
    "#Colocar caminho do local do arquivo json\n",
    "geo_json_data = json.load(open(estado)) \n",
    "#ler arquivo \n",
    "style =  {'fillColor': 'blue', #cor de preenchimento\n",
    "              'color': 'red', #cor da linha de contorno\n",
    "             'weight': 0.0,  #espessura da linha\n",
    "            } \n",
    "\n",
    "#Colocar caminho do local do arquivo json\n",
    "geo_json_data1 = json.load(open(cidade)) \n",
    "#ler arquivo \n",
    "\n",
    "\n",
    "\n",
    "#Opção1\n",
    "folium.GeoJson(geo_json_data1, style_function=lambda x:style).add_to(mapa)\n",
    "mapa"
   ]
  },
  {
   "cell_type": "code",
   "execution_count": 6,
   "metadata": {},
   "outputs": [
    {
     "ename": "FileNotFoundError",
     "evalue": "[Errno 2] No such file or directory: '1.geojson'",
     "output_type": "error",
     "traceback": [
      "\u001b[0;31m---------------------------------------------------------------------------\u001b[0m",
      "\u001b[0;31mFileNotFoundError\u001b[0m                         Traceback (most recent call last)",
      "\u001b[1;32m/home/maion/Desktop/PIBIC/MapPython-Cascavel-PR/mainBairros.ipynb Cell 2\u001b[0m in \u001b[0;36m<cell line: 16>\u001b[0;34m()\u001b[0m\n\u001b[1;32m     <a href='vscode-notebook-cell:/home/maion/Desktop/PIBIC/MapPython-Cascavel-PR/mainBairros.ipynb#W1sZmlsZQ%3D%3D?line=15'>16</a>\u001b[0m \u001b[39mfor\u001b[39;00m numero \u001b[39min\u001b[39;00m \u001b[39mrange\u001b[39m(\u001b[39m1\u001b[39m, \u001b[39m111\u001b[39m):  \u001b[39m# Range de 1 a 110 (incluindo 1 e 110)\u001b[39;00m\n\u001b[1;32m     <a href='vscode-notebook-cell:/home/maion/Desktop/PIBIC/MapPython-Cascavel-PR/mainBairros.ipynb#W1sZmlsZQ%3D%3D?line=16'>17</a>\u001b[0m     nome_arquivo \u001b[39m=\u001b[39m \u001b[39mf\u001b[39m\u001b[39m\"\u001b[39m\u001b[39m{\u001b[39;00mnumero\u001b[39m}\u001b[39;00m\u001b[39m.geojson\u001b[39m\u001b[39m\"\u001b[39m\n\u001b[0;32m---> <a href='vscode-notebook-cell:/home/maion/Desktop/PIBIC/MapPython-Cascavel-PR/mainBairros.ipynb#W1sZmlsZQ%3D%3D?line=17'>18</a>\u001b[0m     geo_json_data \u001b[39m=\u001b[39m json\u001b[39m.\u001b[39mload(\u001b[39mopen\u001b[39;49m(nome_arquivo))\n\u001b[1;32m     <a href='vscode-notebook-cell:/home/maion/Desktop/PIBIC/MapPython-Cascavel-PR/mainBairros.ipynb#W1sZmlsZQ%3D%3D?line=18'>19</a>\u001b[0m     folium\u001b[39m.\u001b[39mGeoJson(geo_json_data, style_function\u001b[39m=\u001b[39m\u001b[39mlambda\u001b[39;00m x: style)\u001b[39m.\u001b[39madd_to(mapa)\n\u001b[1;32m     <a href='vscode-notebook-cell:/home/maion/Desktop/PIBIC/MapPython-Cascavel-PR/mainBairros.ipynb#W1sZmlsZQ%3D%3D?line=22'>23</a>\u001b[0m mapa\n",
      "\u001b[0;31mFileNotFoundError\u001b[0m: [Errno 2] No such file or directory: '1.geojson'"
     ]
    }
   ],
   "source": [
    "import folium\n",
    "import json\n",
    "\n",
    "# Criando mapa\n",
    "centro_mapa = [-24.9645333, -53.5514641]\n",
    "mapa = folium.Map(location=centro_mapa, zoom_start=12)\n",
    "\n",
    "# Estilo comum para todos os arquivos\n",
    "style = {\n",
    "    'fillColor': 'blue',\n",
    "    'color': 'red',\n",
    "    'weight': 0.0,\n",
    "}\n",
    "\n",
    "# Iterando sobre os números de 1 a 110 para gerar os nomes dos arquivos\n",
    "for numero in range(1, 111):  # Range de 1 a 110 (incluindo 1 e 110)\n",
    "    nome_arquivo = f\"{numero}.geojson\"\n",
    "    geo_json_data = json.load(open((\"Bairros/\"+nome_arquivo)))\n",
    "    folium.GeoJson(geo_json_data, style_function=lambda x: style).add_to(mapa)\n",
    "\n",
    "\n",
    "\n",
    "mapa\n",
    "\n"
   ]
  }
 ],
 "metadata": {
  "kernelspec": {
   "display_name": "Python 3",
   "language": "python",
   "name": "python3"
  },
  "language_info": {
   "codemirror_mode": {
    "name": "ipython",
    "version": 3
   },
   "file_extension": ".py",
   "mimetype": "text/x-python",
   "name": "python",
   "nbconvert_exporter": "python",
   "pygments_lexer": "ipython3",
   "version": "3.10.12"
  },
  "orig_nbformat": 4
 },
 "nbformat": 4,
 "nbformat_minor": 2
}
