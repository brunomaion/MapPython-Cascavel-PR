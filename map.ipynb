{
 "cells": [
  {
   "cell_type": "code",
   "execution_count": 24,
   "metadata": {},
   "outputs": [
    {
     "ename": "AttributeError",
     "evalue": "'dict' object has no attribute 'crs'",
     "output_type": "error",
     "traceback": [
      "\u001b[0;31m---------------------------------------------------------------------------\u001b[0m",
      "\u001b[0;31mAttributeError\u001b[0m                            Traceback (most recent call last)",
      "\u001b[1;32m/home/maion/Desktop/MapPython-Cascavel-PR/map.ipynb Cell 1\u001b[0m in \u001b[0;36m<cell line: 14>\u001b[0;34m()\u001b[0m\n\u001b[1;32m      <a href='vscode-notebook-cell:/home/maion/Desktop/MapPython-Cascavel-PR/map.ipynb#W0sZmlsZQ%3D%3D?line=5'>6</a>\u001b[0m \u001b[39m#-24.9537946,-53.451791,15\u001b[39;00m\n\u001b[1;32m      <a href='vscode-notebook-cell:/home/maion/Desktop/MapPython-Cascavel-PR/map.ipynb#W0sZmlsZQ%3D%3D?line=7'>8</a>\u001b[0m mapa \u001b[39m=\u001b[39m folium\u001b[39m.\u001b[39mMap(\n\u001b[1;32m      <a href='vscode-notebook-cell:/home/maion/Desktop/MapPython-Cascavel-PR/map.ipynb#W0sZmlsZQ%3D%3D?line=8'>9</a>\u001b[0m     location\u001b[39m=\u001b[39m[\u001b[39m-\u001b[39m\u001b[39m24.9537946\u001b[39m,\u001b[39m-\u001b[39m\u001b[39m53.451791\u001b[39m],    \u001b[39m# Coordenadas retiradas do Google Maps\u001b[39;00m\n\u001b[1;32m     <a href='vscode-notebook-cell:/home/maion/Desktop/MapPython-Cascavel-PR/map.ipynb#W0sZmlsZQ%3D%3D?line=9'>10</a>\u001b[0m     zoom_start\u001b[39m=\u001b[39m\u001b[39m12.5\u001b[39m\n\u001b[1;32m     <a href='vscode-notebook-cell:/home/maion/Desktop/MapPython-Cascavel-PR/map.ipynb#W0sZmlsZQ%3D%3D?line=10'>11</a>\u001b[0m )\n\u001b[0;32m---> <a href='vscode-notebook-cell:/home/maion/Desktop/MapPython-Cascavel-PR/map.ipynb#W0sZmlsZQ%3D%3D?line=13'>14</a>\u001b[0m geo_json_data\u001b[39m.\u001b[39;49mcrs\n",
      "\u001b[0;31mAttributeError\u001b[0m: 'dict' object has no attribute 'crs'"
     ]
    }
   ],
   "source": [
    "import folium\n",
    "import pandas as pd\n",
    "import json\n",
    "\n",
    "\n",
    "#-24.9537946,-53.451791,15\n",
    "\n",
    "mapa = folium.Map(\n",
    "    location=[-24.9537946,-53.451791],    # Coordenadas retiradas do Google Maps\n",
    "    zoom_start=12.5\n",
    ")\n",
    "\n",
    "\n"
   ]
  },
  {
   "cell_type": "code",
   "execution_count": 22,
   "metadata": {},
   "outputs": [
    {
     "data": {
      "text/plain": [
       "<folium.map.Marker at 0x7fa578429270>"
      ]
     },
     "execution_count": 22,
     "metadata": {},
     "output_type": "execute_result"
    }
   ],
   "source": [
    "##MARCADORES\n",
    "\n",
    "folium.Marker(\n",
    "    location=[-24.9857929,-53.4523547],\n",
    "    popup=\"UNIOESTE\"\n",
    ").add_to(mapa)\n",
    "\n"
   ]
  },
  {
   "cell_type": "code",
   "execution_count": 25,
   "metadata": {},
   "outputs": [
    {
     "ename": "AttributeError",
     "evalue": "'dict' object has no attribute 'to_crs'",
     "output_type": "error",
     "traceback": [
      "\u001b[0;31m---------------------------------------------------------------------------\u001b[0m",
      "\u001b[0;31mAttributeError\u001b[0m                            Traceback (most recent call last)",
      "\u001b[1;32m/home/maion/Desktop/MapPython-Cascavel-PR/map.ipynb Cell 3\u001b[0m in \u001b[0;36m<cell line: 2>\u001b[0;34m()\u001b[0m\n\u001b[1;32m      <a href='vscode-notebook-cell:/home/maion/Desktop/MapPython-Cascavel-PR/map.ipynb#W2sZmlsZQ%3D%3D?line=0'>1</a>\u001b[0m br_estados \u001b[39m=\u001b[39m \u001b[39m'\u001b[39m\u001b[39mbr_states.json\u001b[39m\u001b[39m'\u001b[39m\n\u001b[0;32m----> <a href='vscode-notebook-cell:/home/maion/Desktop/MapPython-Cascavel-PR/map.ipynb#W2sZmlsZQ%3D%3D?line=1'>2</a>\u001b[0m geo_json_data \u001b[39m=\u001b[39m geo_json_data\u001b[39m.\u001b[39;49mto_crs(epsg\u001b[39m=\u001b[39m\u001b[39m4326\u001b[39m)\n\u001b[1;32m      <a href='vscode-notebook-cell:/home/maion/Desktop/MapPython-Cascavel-PR/map.ipynb#W2sZmlsZQ%3D%3D?line=2'>3</a>\u001b[0m geo_json_data \u001b[39m=\u001b[39m json\u001b[39m.\u001b[39mload(\u001b[39mopen\u001b[39m(br_estados))\n\u001b[1;32m      <a href='vscode-notebook-cell:/home/maion/Desktop/MapPython-Cascavel-PR/map.ipynb#W2sZmlsZQ%3D%3D?line=3'>4</a>\u001b[0m folium\u001b[39m.\u001b[39mGeoJson(geo_json_data)\u001b[39m.\u001b[39madd_to(mapa)\n",
      "\u001b[0;31mAttributeError\u001b[0m: 'dict' object has no attribute 'to_crs'"
     ]
    }
   ],
   "source": [
    "br_estados = 'br_states.json'\n",
    "geo_json_data = geo_json_data.to_crs(epsg=4326)\n",
    "geo_json_data = json.load(open(br_estados))\n",
    "folium.GeoJson(geo_json_data).add_to(mapa)\n",
    "mapa"
   ]
  },
  {
   "cell_type": "code",
   "execution_count": null,
   "metadata": {},
   "outputs": [],
   "source": []
  }
 ],
 "metadata": {
  "kernelspec": {
   "display_name": "Python 3",
   "language": "python",
   "name": "python3"
  },
  "language_info": {
   "codemirror_mode": {
    "name": "ipython",
    "version": 3
   },
   "file_extension": ".py",
   "mimetype": "text/x-python",
   "name": "python",
   "nbconvert_exporter": "python",
   "pygments_lexer": "ipython3",
   "version": "3.10.6"
  },
  "orig_nbformat": 4
 },
 "nbformat": 4,
 "nbformat_minor": 2
}
