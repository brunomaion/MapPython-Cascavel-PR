{
 "cells": [
  {
   "cell_type": "code",
   "execution_count": 10,
   "metadata": {},
   "outputs": [],
   "source": [
    "#importando as bibliotecas\n",
    "import folium\n",
    "import json\n",
    "import requests\n",
    "from requests.adapters import HTTPAdapter\n",
    "from urllib3.util.retry import Retry\n",
    "\n",
    "\n",
    "session = requests.Session()\n",
    "retry = Retry(connect=3, backoff_factor=0.5)\n",
    "adapter = HTTPAdapter(max_retries=retry)\n",
    "session.mount('http://', adapter)\n",
    "session.mount('https://', adapter)\n",
    "\n",
    "\n",
    "\n",
    "#Criando mapa\n",
    "mapa = folium.Map(location = [-13.4008012,-46.4565518],\n",
    "    zoom_start=6)\n",
    "\n",
    "\n",
    "\n",
    "#Colocar caminho do local do arquivo json\n",
    "estado = 'BA'\n",
    "url = \"https://servicodados.ibge.gov.br/api/v3/malhas/estados/{}?formato=application/vnd.geo+json\".format(estado)\n",
    "session.get(url)\n",
    "\n",
    "geo_json_data = requests.get(url).json()\n",
    "\n",
    "#ler arquivo \n",
    "style =  {'fillColor': 'blue', #cor de preenchimento\n",
    "              'color': 'red', #cor da linha de contorno\n",
    "             'weight': 0.0,  #espessura da linha\n",
    "            } \n",
    "\n",
    "\n",
    "#Opção1\n",
    "folium.GeoJson(geo_json_data, style_function=lambda x:style).add_to(mapa)\n",
    "mapa"
   ]
  }
 ],
 "metadata": {
  "kernelspec": {
   "display_name": "Python 3",
   "language": "python",
   "name": "python3"
  },
  "language_info": {
   "codemirror_mode": {
    "name": "ipython",
    "version": 3
   },
   "file_extension": ".py",
   "mimetype": "text/x-python",
   "name": "python",
   "nbconvert_exporter": "python",
   "pygments_lexer": "ipython3",
   "version": "3.10.6"
  },
  "orig_nbformat": 4
 },
 "nbformat": 4,
 "nbformat_minor": 2
}
